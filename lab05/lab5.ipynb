{
 "cells": [
  {
   "cell_type": "code",
   "execution_count": 39,
   "metadata": {},
   "outputs": [],
   "source": [
    "# Name: Jay Chin\n",
    "# BlazerId: jchin25"
   ]
  },
  {
   "cell_type": "code",
   "execution_count": 40,
   "metadata": {},
   "outputs": [],
   "source": [
    "import requests\n",
    "import json"
   ]
  },
  {
   "cell_type": "code",
   "execution_count": 41,
   "metadata": {},
   "outputs": [],
   "source": [
    "url = \"https://michaelgathara.com/api/python-challenge\""
   ]
  },
  {
   "cell_type": "code",
   "execution_count": 42,
   "metadata": {},
   "outputs": [
    {
     "name": "stdout",
     "output_type": "stream",
     "text": [
      "[{'id': 1, 'problem': '3 + 5?'}, {'id': 2, 'problem': '7 * 6?'}, {'id': 3, 'problem': '20 / 5?'}]\n"
     ]
    }
   ],
   "source": [
    "# Send a GET request to retrieve the challenge\n",
    "response = requests.get(url)\n",
    "\n",
    "#Extract the challenges from the response\n",
    "challenges = response.json()\n",
    "print(challenges)"
   ]
  },
  {
   "cell_type": "code",
   "execution_count": 43,
   "metadata": {},
   "outputs": [
    {
     "name": "stdout",
     "output_type": "stream",
     "text": [
      "3 + 5 = 8\n",
      "7 * 6 = 42\n",
      "20 / 5 = 4.0\n"
     ]
    }
   ],
   "source": [
    "# problem = json.loads(challenges)\n",
    "for dict in challenges:\n",
    "    problem = dict['problem']\n",
    "    problem = problem.replace('?', '')\n",
    "    answer = eval(problem)\n",
    "    print(str(problem) + ' = ' + str(answer))\n"
   ]
  }
 ],
 "metadata": {
  "kernelspec": {
   "display_name": "Python 3",
   "language": "python",
   "name": "python3"
  },
  "language_info": {
   "codemirror_mode": {
    "name": "ipython",
    "version": 3
   },
   "file_extension": ".py",
   "mimetype": "text/x-python",
   "name": "python",
   "nbconvert_exporter": "python",
   "pygments_lexer": "ipython3",
   "version": "3.10.5"
  },
  "orig_nbformat": 4
 },
 "nbformat": 4,
 "nbformat_minor": 2
}
